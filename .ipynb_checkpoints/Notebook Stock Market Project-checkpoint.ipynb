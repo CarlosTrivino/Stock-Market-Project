{
 "cells": [
  {
   "cell_type": "markdown",
   "id": "2bfdd427-9197-4067-8688-3aef19f6a2ed",
   "metadata": {},
   "source": [
    "# Stock Market Project"
   ]
  },
  {
   "cell_type": "markdown",
   "id": "41fd66f3-01c7-4544-b9a3-bed3a22a5301",
   "metadata": {},
   "source": [
    "## Summary"
   ]
  },
  {
   "cell_type": "markdown",
   "id": "83f87839-fce2-4457-b992-1af8c6bcc613",
   "metadata": {},
   "source": [
    "The project consists about analizing the S&P500 that is an index of top biggest 500 companies from Unated Satates, and compare it with the variation of the FED interest rates along with the behavior of the bitcoin, and achieve to find corraltions among these.  \n",
    "Upon analizing the data, it was found that exist a relation among these, due to...."
   ]
  },
  {
   "cell_type": "markdown",
   "id": "d5255187-70b7-48de-8e2f-59b67a8c1319",
   "metadata": {},
   "source": [
    "## Objectives"
   ]
  },
  {
   "cell_type": "markdown",
   "id": "95860a38-5fc8-4e4c-a285-5e65a48d43ff",
   "metadata": {},
   "source": [
    "### General Objective"
   ]
  },
  {
   "cell_type": "markdown",
   "id": "211f0f22-7582-4128-8f31-94e68a75f186",
   "metadata": {},
   "source": [
    "Analize the relation among the S&P 500, the bitcoin and FED interest rates with the end to identify optimal moments to operate in the market and maximize the profits."
   ]
  },
  {
   "cell_type": "markdown",
   "id": "60bd3af1-803d-40f9-b9ca-dc994eae85f4",
   "metadata": {},
   "source": [
    "### Specific Objetives"
   ]
  },
  {
   "cell_type": "markdown",
   "id": "a1379e63-a938-492c-8b52-233d1afc35e1",
   "metadata": {},
   "source": [
    "* Search Datasets, clean and transform data using Python\n",
    "* Analize data and find behavior patterns\n",
    "* Perform quieries in SQL\n",
    "* Perform proposals of optimal entries to operate\n",
    "* Perform a Dashboard"
   ]
  },
  {
   "cell_type": "code",
   "execution_count": null,
   "id": "5d34f078-4925-4b94-8b65-d778ee560a1a",
   "metadata": {},
   "outputs": [],
   "source": []
  }
 ],
 "metadata": {
  "kernelspec": {
   "display_name": "Python 3 (ipykernel)",
   "language": "python",
   "name": "python3"
  },
  "language_info": {
   "codemirror_mode": {
    "name": "ipython",
    "version": 3
   },
   "file_extension": ".py",
   "mimetype": "text/x-python",
   "name": "python",
   "nbconvert_exporter": "python",
   "pygments_lexer": "ipython3",
   "version": "3.11.7"
  }
 },
 "nbformat": 4,
 "nbformat_minor": 5
}
